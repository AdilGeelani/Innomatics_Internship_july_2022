{
 "cells": [
  {
   "cell_type": "code",
   "execution_count": 1,
   "id": "09f0e2fa",
   "metadata": {},
   "outputs": [],
   "source": [
    "import numpy as np"
   ]
  },
  {
   "cell_type": "markdown",
   "id": "36e873ac",
   "metadata": {},
   "source": [
    "Question:\n",
    "\n",
    "Randomly generate a matrix of shape (1Million, 2) and perform below mentioned operations:\n",
    "\n",
    "a. Find the distances between each 2-Dimensional data point from the centroid (i.e. mean) of the given dataset. Append the newly calculated distances as new column with the given dataset.\n",
    "\n",
    "b. Given any data point, generate 3 closest neighbors from it.\n"
   ]
  },
  {
   "cell_type": "code",
   "execution_count": 2,
   "id": "ae27817e",
   "metadata": {},
   "outputs": [],
   "source": [
    "# step 1 : make a matrix of size (1000000, 2) randomly\n",
    "matrix = np.random.rand(1000000,2)"
   ]
  },
  {
   "cell_type": "code",
   "execution_count": 3,
   "id": "394ec281",
   "metadata": {
    "scrolled": true
   },
   "outputs": [
    {
     "data": {
      "text/plain": [
       "(array([[0.89848078, 0.8470764 ],\n",
       "        [0.63283098, 0.38660445],\n",
       "        [0.51827758, 0.92014529],\n",
       "        ...,\n",
       "        [0.58986552, 0.63272241],\n",
       "        [0.68730844, 0.70769151],\n",
       "        [0.5212735 , 0.01547635]]),\n",
       " (1000000, 2))"
      ]
     },
     "execution_count": 3,
     "metadata": {},
     "output_type": "execute_result"
    }
   ],
   "source": [
    "matrix, matrix.shape"
   ]
  },
  {
   "cell_type": "markdown",
   "id": "ad27df2b",
   "metadata": {},
   "source": []
  },
  {
   "cell_type": "code",
   "execution_count": 4,
   "id": "6c78ee31",
   "metadata": {},
   "outputs": [
    {
     "data": {
      "text/plain": [
       "array([0.49975451, 0.49965713])"
      ]
     },
     "execution_count": 4,
     "metadata": {},
     "output_type": "execute_result"
    }
   ],
   "source": [
    "# step 2 : find the centroid of the data (mean)\n",
    "\n",
    "# mean_x = np.mean(matrix[0])\n",
    "# mean_y = np.mean(matrix[1])\n",
    "\n",
    "# mean_x, mean_y\n",
    "centroid = np.mean(matrix, axis = 0)\n",
    "centroid\n",
    "\n"
   ]
  },
  {
   "cell_type": "code",
   "execution_count": 5,
   "id": "415404dc",
   "metadata": {},
   "outputs": [
    {
     "name": "stdout",
     "output_type": "stream",
     "text": [
      "Wall time: 54.1 ms\n"
     ]
    }
   ],
   "source": [
    "%%time\n",
    "# step 3 : compute the distance between 2d datapoints and centroid(** Numpy broadcasting)\n",
    "distance = np.sqrt(np.sum((matrix-centroid)**2, axis = 1)) # axis = 1 is across row "
   ]
  },
  {
   "cell_type": "code",
   "execution_count": 6,
   "id": "7f4e379d",
   "metadata": {},
   "outputs": [
    {
     "data": {
      "text/plain": [
       "(1000000,)"
      ]
     },
     "execution_count": 6,
     "metadata": {},
     "output_type": "execute_result"
    }
   ],
   "source": [
    "distance.shape"
   ]
  },
  {
   "cell_type": "code",
   "execution_count": 7,
   "id": "7c79e04e",
   "metadata": {},
   "outputs": [
    {
     "data": {
      "text/plain": [
       "array([[0.89848078, 0.8470764 , 0.52885044],\n",
       "       [0.63283098, 0.38660445, 0.17461459],\n",
       "       [0.51827758, 0.92014529, 0.42089595],\n",
       "       ...,\n",
       "       [0.58986552, 0.63272241, 0.16070583],\n",
       "       [0.68730844, 0.70769151, 0.2800978 ],\n",
       "       [0.5212735 , 0.01547635, 0.48465874]])"
      ]
     },
     "execution_count": 7,
     "metadata": {},
     "output_type": "execute_result"
    }
   ],
   "source": [
    "# step 4: add the distance as a new column to our matrix\n",
    "np.hstack([matrix, distance.reshape(-1,1)])"
   ]
  },
  {
   "cell_type": "code",
   "execution_count": 8,
   "id": "0ac4ac89",
   "metadata": {},
   "outputs": [],
   "source": [
    "# b. Given any data point, generate 3 closest neighbors from it."
   ]
  },
  {
   "cell_type": "code",
   "execution_count": 9,
   "id": "184617fa",
   "metadata": {},
   "outputs": [
    {
     "name": "stdout",
     "output_type": "stream",
     "text": [
      "Wall time: 74 ms\n"
     ]
    }
   ],
   "source": [
    "%%time\n",
    "test = np.random.rand(1,2)\n",
    "# Calculate distance between test data and all points in matrix\n",
    "distances = np.sqrt(np.sum((test - matrix)**2, axis = 1))\n",
    "# sort the array using arg partition and keep only 3 elements\n",
    "n = 3\n",
    "min_indices = np.argpartition(distances,n-1)[:n]"
   ]
  },
  {
   "cell_type": "code",
   "execution_count": 10,
   "id": "1df95a00",
   "metadata": {},
   "outputs": [
    {
     "data": {
      "text/plain": [
       "array([503992, 886750, 548216], dtype=int64)"
      ]
     },
     "execution_count": 10,
     "metadata": {},
     "output_type": "execute_result"
    }
   ],
   "source": [
    "min_indices"
   ]
  },
  {
   "cell_type": "code",
   "execution_count": 11,
   "id": "ed171643",
   "metadata": {},
   "outputs": [
    {
     "data": {
      "text/plain": [
       "array([0.00044938, 0.00047589, 0.00048794])"
      ]
     },
     "execution_count": 11,
     "metadata": {},
     "output_type": "execute_result"
    }
   ],
   "source": [
    "# minimum distances \n",
    "distances[min_indices]"
   ]
  },
  {
   "cell_type": "code",
   "execution_count": 12,
   "id": "5e1e7de2",
   "metadata": {},
   "outputs": [
    {
     "data": {
      "text/plain": [
       "array([[0.40021185, 0.14332855],\n",
       "       [0.40038379, 0.14337108],\n",
       "       [0.39963862, 0.14382939]])"
      ]
     },
     "execution_count": 12,
     "metadata": {},
     "output_type": "execute_result"
    }
   ],
   "source": [
    "# points at minimum distance:\n",
    "matrix[min_indices]"
   ]
  },
  {
   "cell_type": "code",
   "execution_count": null,
   "id": "b9dd150c",
   "metadata": {},
   "outputs": [],
   "source": []
  },
  {
   "cell_type": "code",
   "execution_count": null,
   "id": "b7202d90",
   "metadata": {},
   "outputs": [],
   "source": []
  },
  {
   "cell_type": "markdown",
   "id": "fb5af2c0",
   "metadata": {},
   "source": []
  }
 ],
 "metadata": {
  "kernelspec": {
   "display_name": "Python 3 (ipykernel)",
   "language": "python",
   "name": "python3"
  },
  "language_info": {
   "codemirror_mode": {
    "name": "ipython",
    "version": 3
   },
   "file_extension": ".py",
   "mimetype": "text/x-python",
   "name": "python",
   "nbconvert_exporter": "python",
   "pygments_lexer": "ipython3",
   "version": "3.8.8"
  }
 },
 "nbformat": 4,
 "nbformat_minor": 5
}
