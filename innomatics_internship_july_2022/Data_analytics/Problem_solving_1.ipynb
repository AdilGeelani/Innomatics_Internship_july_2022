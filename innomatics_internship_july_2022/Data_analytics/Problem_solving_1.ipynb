{
 "cells": [
  {
   "cell_type": "code",
   "execution_count": 1,
   "id": "09f0e2fa",
   "metadata": {},
   "outputs": [],
   "source": [
    "import numpy as np"
   ]
  },
  {
   "cell_type": "markdown",
   "id": "36e873ac",
   "metadata": {},
   "source": [
    "Question:\n",
    "\n",
    "Randomly generate a matrix of shape (1Million, 2) and perform below mentioned operations:\n",
    "\n",
    "a. Find the distances between each 2-Dimensional data point from the centroid (i.e. mean) of the given dataset. Append the newly calculated distances as new column with the given dataset.\n",
    "\n",
    "b. Given any data point, generate 3 closest neighbors from it.\n"
   ]
  },
  {
   "cell_type": "code",
   "execution_count": 11,
   "id": "ae27817e",
   "metadata": {},
   "outputs": [],
   "source": [
    "# step 1 : make a matrix of size (1000000, 2) randomly\n",
    "matrix = np.random.rand(1000000,2)"
   ]
  },
  {
   "cell_type": "code",
   "execution_count": 17,
   "id": "394ec281",
   "metadata": {
    "scrolled": true
   },
   "outputs": [
    {
     "data": {
      "text/plain": [
       "(array([[0.86421295, 0.33054375],\n",
       "        [0.62803417, 0.65069352],\n",
       "        [0.15415485, 0.88816077],\n",
       "        ...,\n",
       "        [0.78009449, 0.51746051],\n",
       "        [0.08175391, 0.99104729],\n",
       "        [0.73412319, 0.7299869 ]]),\n",
       " (1000000, 2))"
      ]
     },
     "execution_count": 17,
     "metadata": {},
     "output_type": "execute_result"
    }
   ],
   "source": [
    "matrix, matrix.shape"
   ]
  },
  {
   "cell_type": "markdown",
   "id": "ad27df2b",
   "metadata": {},
   "source": []
  },
  {
   "cell_type": "code",
   "execution_count": 22,
   "id": "6c78ee31",
   "metadata": {},
   "outputs": [
    {
     "data": {
      "text/plain": [
       "array([0.49952995, 0.50051897])"
      ]
     },
     "execution_count": 22,
     "metadata": {},
     "output_type": "execute_result"
    }
   ],
   "source": [
    "# step 2 : find the centroid of the data (mean)\n",
    "\n",
    "# mean_x = np.mean(matrix[0])\n",
    "# mean_y = np.mean(matrix[1])\n",
    "\n",
    "# mean_x, mean_y\n",
    "centroid = np.mean(matrix, axis = 0)\n",
    "centroid\n",
    "\n"
   ]
  },
  {
   "cell_type": "code",
   "execution_count": 29,
   "id": "415404dc",
   "metadata": {},
   "outputs": [
    {
     "name": "stdout",
     "output_type": "stream",
     "text": [
      "CPU times: total: 46.9 ms\n",
      "Wall time: 49 ms\n"
     ]
    }
   ],
   "source": [
    "%%time\n",
    "# step 3 : compute the distance between 2d datapoints and centroid(** Numpy broadcasting)\n",
    "distance = np.sqrt(np.sum((matrix-centroid)**2, axis = 1)) # axis = 1 is across row "
   ]
  },
  {
   "cell_type": "code",
   "execution_count": 31,
   "id": "7f4e379d",
   "metadata": {},
   "outputs": [
    {
     "data": {
      "text/plain": [
       "(1000000,)"
      ]
     },
     "execution_count": 31,
     "metadata": {},
     "output_type": "execute_result"
    }
   ],
   "source": [
    "distance.shape"
   ]
  },
  {
   "cell_type": "code",
   "execution_count": 32,
   "id": "7c79e04e",
   "metadata": {},
   "outputs": [
    {
     "data": {
      "text/plain": [
       "array([[0.86421295, 0.33054375, 0.40234969],\n",
       "       [0.62803417, 0.65069352, 0.19765053],\n",
       "       [0.15415485, 0.88816077, 0.51918217],\n",
       "       ...,\n",
       "       [0.78009449, 0.51746051, 0.28107557],\n",
       "       [0.08175391, 0.99104729, 0.64432511],\n",
       "       [0.73412319, 0.7299869 , 0.32816081]])"
      ]
     },
     "execution_count": 32,
     "metadata": {},
     "output_type": "execute_result"
    }
   ],
   "source": [
    "# step 4: add the distnace as a new column to our matrix\n",
    "np.hstack([matrix, distance.reshape(-1,1)])"
   ]
  },
  {
   "cell_type": "code",
   "execution_count": 33,
   "id": "0ac4ac89",
   "metadata": {},
   "outputs": [],
   "source": [
    "# b. Given any data point, generate 3 closest neighbors from it."
   ]
  },
  {
   "cell_type": "code",
   "execution_count": 60,
   "id": "184617fa",
   "metadata": {},
   "outputs": [],
   "source": [
    "test = np.random.rand(1,2)\n",
    "# Calculate distance between test data and all points in matrix\n",
    "distances = np.sqrt(np.sum((test - matrix)**2, axis = 1))\n",
    "n = 3\n",
    "min_indices = np.argpartition(distances,n-1)[:n]"
   ]
  },
  {
   "cell_type": "code",
   "execution_count": 66,
   "id": "1df95a00",
   "metadata": {},
   "outputs": [
    {
     "data": {
      "text/plain": [
       "0.00019151319420720095"
      ]
     },
     "execution_count": 66,
     "metadata": {},
     "output_type": "execute_result"
    }
   ],
   "source": [
    "min_indices"
   ]
  },
  {
   "cell_type": "code",
   "execution_count": 63,
   "id": "ed171643",
   "metadata": {},
   "outputs": [
    {
     "data": {
      "text/plain": [
       "array([0.00019151, 0.00092959, 0.00104074])"
      ]
     },
     "execution_count": 63,
     "metadata": {},
     "output_type": "execute_result"
    }
   ],
   "source": [
    "# minimum distances \n",
    "distances[min_indices]"
   ]
  },
  {
   "cell_type": "code",
   "execution_count": 64,
   "id": "5e1e7de2",
   "metadata": {},
   "outputs": [
    {
     "data": {
      "text/plain": [
       "array([[0.10208448, 0.02332606],\n",
       "       [0.1029156 , 0.02325097],\n",
       "       [0.10107549, 0.02266337]])"
      ]
     },
     "execution_count": 64,
     "metadata": {},
     "output_type": "execute_result"
    }
   ],
   "source": [
    "# points at minimum distance:\n",
    "matrix[min_indices]"
   ]
  }
 ],
 "metadata": {
  "kernelspec": {
   "display_name": "Python 3 (ipykernel)",
   "language": "python",
   "name": "python3"
  },
  "language_info": {
   "codemirror_mode": {
    "name": "ipython",
    "version": 3
   },
   "file_extension": ".py",
   "mimetype": "text/x-python",
   "name": "python",
   "nbconvert_exporter": "python",
   "pygments_lexer": "ipython3",
   "version": "3.9.12"
  }
 },
 "nbformat": 4,
 "nbformat_minor": 5
}
