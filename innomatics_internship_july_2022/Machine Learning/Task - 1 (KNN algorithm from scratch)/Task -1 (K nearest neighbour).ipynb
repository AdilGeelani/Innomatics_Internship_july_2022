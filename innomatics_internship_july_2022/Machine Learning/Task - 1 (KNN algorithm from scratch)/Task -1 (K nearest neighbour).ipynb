{
 "cells": [
  {
   "cell_type": "markdown",
   "id": "15d611c7",
   "metadata": {},
   "source": [
    "## K nearest Neighbour From Scratch \n",
    "The data used in this notebook has the following description :\n",
    "\n",
    "**Title : Diamonds**\n",
    "\n",
    "1. the 7th column \"price\" is the values to be predicted.\n",
    "\n",
    "2. Data Type : Mixed ( Numerical + Categorical)\n",
    "\t\n",
    "3. Dataset has nearly 54000 instances.\n",
    "\n",
    "4. It has 10 features.\n",
    "\n",
    "5. Features \n",
    "\n",
    "\tprice : price in US dollars (\\$326-\\$18,823)\n",
    "\n",
    "\tcarat : weight of the diamond (0.2-5.01)\n",
    "\n",
    "\tcut   : quality of the cut (Fair, Good, Very Good, Premium, Ideal)\n",
    "\n",
    "\tcolor : diamond colour, from J (worst) to D (best)\n",
    "\n",
    "\tclarity : a measurement of how clear the diamond is (I1 (worst), SI2, SI1, VS2, VS1, VVS2, VVS1, IF (best))\n",
    "\n",
    "\tx : length in mm (0--10.74)\n",
    "\n",
    "\ty : width in mm (0--58.9)\n",
    "\n",
    "\tz : depth in mm (0--31.8)\n",
    "\n",
    "\tdepth : total depth percentage = z / mean(x, y) = 2 * z / (x + y) (43--79)\n",
    "\n",
    "\ttable : width of top of diamond relative to widest point (43--95)\n",
    "\n",
    "6. Caution : Handle Categorical data before building a model. \n",
    "\n",
    "\n"
   ]
  },
  {
   "cell_type": "code",
   "execution_count": null,
   "id": "da5932cb",
   "metadata": {},
   "outputs": [],
   "source": []
  }
 ],
 "metadata": {
  "kernelspec": {
   "display_name": "Python 3 (ipykernel)",
   "language": "python",
   "name": "python3"
  },
  "language_info": {
   "codemirror_mode": {
    "name": "ipython",
    "version": 3
   },
   "file_extension": ".py",
   "mimetype": "text/x-python",
   "name": "python",
   "nbconvert_exporter": "python",
   "pygments_lexer": "ipython3",
   "version": "3.10.4"
  }
 },
 "nbformat": 4,
 "nbformat_minor": 5
}
